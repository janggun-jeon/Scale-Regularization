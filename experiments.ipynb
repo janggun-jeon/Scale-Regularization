{
 "cells": [
  {
   "cell_type": "code",
   "execution_count": 9,
   "id": "4513bbac-18bb-4970-9398-404bcad05ffc",
   "metadata": {},
   "outputs": [],
   "source": [
    "# data preprocessing run only once for the first time\n",
    "!python utils/data_process.py"
   ]
  },
  {
   "cell_type": "code",
   "execution_count": null,
   "id": "73e51b37-f750-4a32-9d69-d2dbb0b51397",
   "metadata": {},
   "outputs": [],
   "source": [
    "# << amazon old >>\n",
    "#    --batch_size 256 \n",
    "#    --emb_size 64 \n",
    "#    --LR 1e-3\n",
    "\n",
    "# other : default"
   ]
  },
  {
   "cell_type": "code",
   "execution_count": null,
   "id": "e169f686-981b-4f7e-aaf7-c1607ea9dc99",
   "metadata": {},
   "outputs": [],
   "source": [
    "# << amazon new >>\n",
    "#    --embed_rescalied\n",
    "\n",
    "# other : default"
   ]
  },
  {
   "cell_type": "code",
   "execution_count": null,
   "id": "04dfb0d3-b7e2-4985-8a3d-1f026d8dc48c",
   "metadata": {},
   "outputs": [],
   "source": [
    "# << yelp old >>\n",
    "#    --data yelp \n",
    "#    --emb_size 64 \n",
    "#    --LR 1e-3\n",
    "\n",
    "# other : default"
   ]
  },
  {
   "cell_type": "code",
   "execution_count": null,
   "id": "efe03de7-83b3-4c78-9137-ae25903da213",
   "metadata": {},
   "outputs": [],
   "source": [
    "# << yelp new >>\n",
    "#    --data yelp\n",
    "#    --embed_rescalied\n",
    "\n",
    "# other : default"
   ]
  },
  {
   "cell_type": "code",
   "execution_count": 25,
   "id": "9727521c-078c-4068-a992-19ff1e68bb46",
   "metadata": {},
   "outputs": [],
   "source": [
    "# automate training process execution\n",
    "!mkdir log/amazon/seed-72\n",
    "!mkdir log/amazon/seed-72/log\n",
    "!sh mecro.sh"
   ]
  }
 ],
 "metadata": {
  "kernelspec": {
   "display_name": "Python 3.10 (Global)",
   "language": "python",
   "name": "python310-global"
  },
  "language_info": {
   "codemirror_mode": {
    "name": "ipython",
    "version": 3
   },
   "file_extension": ".py",
   "mimetype": "text/x-python",
   "name": "python",
   "nbconvert_exporter": "python",
   "pygments_lexer": "ipython3",
   "version": "3.10.12"
  }
 },
 "nbformat": 4,
 "nbformat_minor": 5
}
